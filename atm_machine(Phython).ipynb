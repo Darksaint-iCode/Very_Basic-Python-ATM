{
 "cells": [
  {
   "cell_type": "code",
   "execution_count": null,
   "metadata": {},
   "outputs": [],
   "source": [
    "#Dictionary maping\n",
    "#Using Switch case\n",
    "def switch_stat():\n",
    "    balance = int(5000)\n",
    "    print(\"Automated Teller Machine\\n\")\n",
    "    print(\"Choose 1 for Withdraw\\n\")\n",
    "    print(\"Choose 2 for Deposit\\n\")\n",
    "    print(\"Choose 3 for Check Balance\\n\")\n",
    "    print(\"Choose 4 for EXIT\\n\")\n",
    "    print(\"Choose the operation you want to perform\\n\")\n",
    "    operation = int(input(\"Your option: \"))\n",
    "    def WD():\n",
    "        withdraw = int(input(\"Enter money to be withdrawn:\"))\n",
    "        if(balance >= withdraw):\n",
    "            newbalance = balance - withdraw\n",
    "            print(newbalance)\n",
    "        else:\n",
    "            print(\"Insufficient Balance\")\n",
    "    def DS():\n",
    "        deposit = int(input(\"Enter money to be deposited:\"))\n",
    "        newbalance = balance + deposit\n",
    "        print(newbalance)\n",
    "    def CB():\n",
    "        print(\"Your Balance is: \"+str(balance))\n",
    "        #print(balance)\n",
    "    def Exit():\n",
    "        print(\"Thanks for nothing!\")\n",
    "    dictionary = {\n",
    "        1 : WD,\n",
    "        2 : DS,\n",
    "        3 : CB,\n",
    "        4 : Exit}\n",
    "    dictionary.get(operation)()\n",
    "# switch_stat()"
   ]
  },
  {
   "cell_type": "code",
   "execution_count": 7,
   "metadata": {},
   "outputs": [],
   "source": [
    "#Dictionary maping\n",
    "#Using if statement and elif\n",
    "def if_stat():\n",
    "    balance = int(5000)\n",
    "    print(\"Automated Teller Machine\\n\")\n",
    "    print(\"Choose 1 for Withdraw\\n\")\n",
    "    print(\"Choose 2 for Deposit\\n\")\n",
    "    print(\"Choose 3 for Check Balance\\n\")\n",
    "    print(\"Choose 4 for EXIT\\n\")\n",
    "    print(\"Choose the operation you want to perform\\n\")\n",
    "    operation = int(input(\"Your option: \"))\n",
    "    if (operation == 1):\n",
    "        withdraw = int(input(\"Enter money to be withdrawn:\"))\n",
    "        if(balance >= withdraw):\n",
    "            newbalance = balance - withdraw\n",
    "            print(newbalance)\n",
    "        else:\n",
    "            print(\"Insufficient Balance\")\n",
    "    elif (operation == 2):\n",
    "        deposit = int(input(\"Enter money to be deposited:\"))\n",
    "        newbalance = balance + deposit\n",
    "        print(newbalance)\n",
    "    elif (operation == 3):\n",
    "        print(\"Your Balance is: \"+str(balance))\n",
    "        #print(balance)\n",
    "    elif (operation == 4):\n",
    "        print(\"Thanks for nothing!\")\n",
    "    else: print(\"Invalid Input\")\n",
    "# if_stat()"
   ]
  }
 ],
 "metadata": {
  "kernelspec": {
   "display_name": "Python 3",
   "language": "python",
   "name": "python3"
  },
  "language_info": {
   "codemirror_mode": {
    "name": "ipython",
    "version": 3
   },
   "file_extension": ".py",
   "mimetype": "text/x-python",
   "name": "python",
   "nbconvert_exporter": "python",
   "pygments_lexer": "ipython3",
   "version": "3.7.4"
  }
 },
 "nbformat": 4,
 "nbformat_minor": 2
}
